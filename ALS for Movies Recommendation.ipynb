{
 "cells": [
  {
   "cell_type": "code",
   "execution_count": null,
   "metadata": {
    "application/vnd.databricks.v1+cell": {
     "cellMetadata": {
      "byteLimit": 2048000,
      "rowLimit": 10000
     },
     "inputWidgets": {},
     "nuid": "10543b60-1739-4270-a002-83bb598dbdb2",
     "showTitle": false,
     "tableResultSettingsMap": {},
     "title": ""
    }
   },
   "outputs": [],
   "source": [
    "file_location = \"/databricks-datasets/cs110x/ml-20m/data-001/movies.csv\"\n",
    "file_type = \"csv\"\n",
    "\n",
    "# CSV options\n",
    "infer_schema = \"true\"\n",
    "first_row_is_header = \"true\"\n",
    "delimiter = \",\"\n",
    "\n",
    "# The applied options are for CSV files. For other file types, these will be ignored.\n",
    "df_movies = spark.read.format(file_type) \\\n",
    "  .option(\"inferSchema\", infer_schema) \\\n",
    "  .option(\"header\", first_row_is_header) \\\n",
    "  .option(\"sep\", delimiter) \\\n",
    "  .load(file_location)\n",
    "\n",
    "display(df_movies)"
   ]
  },
  {
   "cell_type": "code",
   "execution_count": null,
   "metadata": {
    "application/vnd.databricks.v1+cell": {
     "cellMetadata": {
      "byteLimit": 2048000,
      "rowLimit": 10000
     },
     "inputWidgets": {},
     "nuid": "6be7df36-4628-448d-83bb-6d0fc4dfe6bb",
     "showTitle": false,
     "tableResultSettingsMap": {},
     "title": ""
    }
   },
   "outputs": [],
   "source": [
    "file_location = \"/databricks-datasets/cs110x/ml-20m/data-001/ratings.csv\"\n",
    "file_type = \"csv\"\n",
    "\n",
    "# CSV options\n",
    "infer_schema = \"true\"\n",
    "first_row_is_header = \"true\"\n",
    "delimiter = \",\"\n",
    "\n",
    "# The applied options are for CSV files. For other file types, these will be ignored.\n",
    "df_ratings = spark.read.format(file_type) \\\n",
    "  .option(\"inferSchema\", infer_schema) \\\n",
    "  .option(\"header\", first_row_is_header) \\\n",
    "  .option(\"sep\", delimiter) \\\n",
    "  .load(file_location)\n",
    "\n",
    "display(df_ratings)"
   ]
  },
  {
   "cell_type": "code",
   "execution_count": null,
   "metadata": {
    "application/vnd.databricks.v1+cell": {
     "cellMetadata": {
      "byteLimit": 2048000,
      "rowLimit": 10000
     },
     "inputWidgets": {},
     "nuid": "386d315b-6c1f-434d-b729-037c6f82b977",
     "showTitle": false,
     "tableResultSettingsMap": {},
     "title": ""
    }
   },
   "outputs": [],
   "source": [
    "from pyspark.sql.types import *\n",
    "movies_schema = StructType([\n",
    "  StructField('movieId', IntegerType()),\n",
    "  StructField('title', StringType()),\n",
    "  StructField('genres', StringType())\n",
    "])\n",
    "\n",
    "ratings_schema = StructType([\n",
    "  StructField('userId', IntegerType()),\n",
    "  StructField('movieId', IntegerType()),\n",
    "  StructField('rating', FloatType())  \n",
    "])\n"
   ]
  },
  {
   "cell_type": "code",
   "execution_count": null,
   "metadata": {
    "application/vnd.databricks.v1+cell": {
     "cellMetadata": {
      "byteLimit": 2048000,
      "rowLimit": 10000
     },
     "inputWidgets": {},
     "nuid": "9a7b9654-0e2a-4b8b-9948-a082ac4cd146",
     "showTitle": false,
     "tableResultSettingsMap": {},
     "title": ""
    }
   },
   "outputs": [
    {
     "name": "stdout",
     "output_type": "stream",
     "text": [
      "14001658\n",
      "5998605\n"
     ]
    }
   ],
   "source": [
    "(df_ratings_70, df_ratings_30) = df_ratings.randomSplit([0.7, 0.3], 50)\n",
    "print(df_ratings_70.count())\n",
    "print(df_ratings_30.count())\n",
    "df_ratings_train = df_ratings_70.cache()\n",
    "df_ratings_test = df_ratings_30.cache()"
   ]
  },
  {
   "cell_type": "code",
   "execution_count": null,
   "metadata": {
    "application/vnd.databricks.v1+cell": {
     "cellMetadata": {
      "byteLimit": 2048000,
      "rowLimit": 10000
     },
     "inputWidgets": {},
     "nuid": "89040b4c-b7ca-47ec-a898-b5a028fcaf42",
     "showTitle": false,
     "tableResultSettingsMap": {},
     "title": ""
    }
   },
   "outputs": [],
   "source": [
    "from pyspark.ml.recommendation import ALS\n",
    "\n",
    "als = ALS().setMaxIter(6).setRegParam(0.1) \\\n",
    "  .setUserCol('userId') \\\n",
    "  .setItemCol('movieId') \\\n",
    "  .setRatingCol('rating') \\\n",
    "  .setRank(6)\n",
    "\n",
    "model = als.fit(df_ratings_train)"
   ]
  },
  {
   "cell_type": "code",
   "execution_count": null,
   "metadata": {
    "application/vnd.databricks.v1+cell": {
     "cellMetadata": {
      "byteLimit": 2048000,
      "rowLimit": 10000
     },
     "inputWidgets": {},
     "nuid": "f28a975e-e022-4c53-8b5e-5b28d9b71a9b",
     "showTitle": false,
     "tableResultSettingsMap": {},
     "title": ""
    },
    "scrolled": true
   },
   "outputs": [],
   "source": [
    "df_predicted_ratings = model.transform(df_ratings_test)\n",
    "df_predicted_ratings = df_predicted_ratings.filter(df_predicted_ratings.prediction != float('nan'))\n",
    "display(df_predicted_ratings)"
   ]
  },
  {
   "cell_type": "code",
   "execution_count": null,
   "metadata": {
    "application/vnd.databricks.v1+cell": {
     "cellMetadata": {
      "byteLimit": 2048000,
      "rowLimit": 10000
     },
     "inputWidgets": {},
     "nuid": "c464a662-bddd-4c80-838c-b6b76a03ce31",
     "showTitle": false,
     "tableResultSettingsMap": {},
     "title": ""
    }
   },
   "outputs": [
    {
     "name": "stdout",
     "output_type": "stream",
     "text": [
      "RMSE Error: 0.8129786960553322\n"
     ]
    }
   ],
   "source": [
    "from pyspark.ml.evaluation import RegressionEvaluator\n",
    "\n",
    "regr_eval = RegressionEvaluator(predictionCol='prediction', labelCol='rating', metricName='rmse')\n",
    "error = regr_eval.evaluate(df_predicted_ratings)\n",
    "print(f'RMSE Error: {error}')"
   ]
  },
  {
   "cell_type": "code",
   "execution_count": null,
   "metadata": {
    "application/vnd.databricks.v1+cell": {
     "cellMetadata": {
      "byteLimit": 2048000,
      "rowLimit": 10000
     },
     "inputWidgets": {},
     "nuid": "8e4ef553-603a-40c8-b1d4-8462d4577c56",
     "showTitle": false,
     "tableResultSettingsMap": {},
     "title": ""
    },
    "scrolled": true
   },
   "outputs": [],
   "source": [
    "from pyspark.ml.recommendation import ALS\n",
    "\n",
    "Maxiter = [x*3 for x in range(1, 8)]\n",
    "\n",
    "result_maxiter = []\n",
    "\n",
    "for i in Maxiter:\n",
    "\n",
    "    als = ALS().setMaxIter(i) \\\n",
    "        .setRegParam(0.1) \\\n",
    "        .setUserCol('userId') \\\n",
    "        .setItemCol('movieId') \\\n",
    "        .setRatingCol('rating') \\\n",
    "        .setRank(6)\n",
    "\n",
    "    model = als.fit(df_ratings_train)\n",
    "\n",
    "    df_predicted_ratings = model.transform(df_ratings_test)\n",
    "    df_predicted_ratings = df_predicted_ratings.filter(df_predicted_ratings.prediction != float('nan'))\n",
    "    display(df_predicted_ratings)\n",
    "\n",
    "    from pyspark.ml.evaluation import RegressionEvaluator\n",
    "\n",
    "    regr_eval = RegressionEvaluator(predictionCol='prediction', labelCol='rating', metricName='rmse')\n",
    "    error = regr_eval.evaluate(df_predicted_ratings)\n",
    "    print(f'RMSE Error: {error}')"
   ]
  },
  {
   "cell_type": "code",
   "execution_count": null,
   "metadata": {
    "application/vnd.databricks.v1+cell": {
     "cellMetadata": {
      "byteLimit": 2048000,
      "rowLimit": 10000
     },
     "inputWidgets": {},
     "nuid": "a32ed56f-3028-4e0a-bb79-67426cbcaeba",
     "showTitle": false,
     "tableResultSettingsMap": {},
     "title": ""
    }
   },
   "outputs": [
    {
     "data": {
      "image/png": "[encoded data removed]",
      "text/plain": [
       "<Figure size 1000x500 with 1 Axes>"
      ]
     },
     "metadata": {},
     "output_type": "display_data"
    }
   ],
   "source": [
    "import matplotlib.pyplot as plt\n",
    "\n",
    "max_iter_values = [3, 6, 9, 12, 15, 18, 21]\n",
    "rmse_errors = [0.8274771044788584, 0.8129786960553322, 0.8112258284707741, 0.8110509823804921, 0.811135408079111, 0.8112416241002153, 0.8113216684594903]\n",
    "fig, ax = plt.subplots(figsize=(10, 5))\n",
    "ax.plot(max_iter_values, rmse_errors, marker='o', linestyle='-', color='b')\n",
    "ax.set_xlabel('MaxIter')\n",
    "ax.set_ylabel('RMSE')\n",
    "ax.set_title('MaxIter vs RMSE')\n",
    "\n",
    "plt.grid(True)\n",
    "plt.show()\n"
   ]
  },
  {
   "cell_type": "code",
   "execution_count": null,
   "metadata": {
    "application/vnd.databricks.v1+cell": {
     "cellMetadata": {
      "byteLimit": 2048000,
      "rowLimit": 10000
     },
     "inputWidgets": {},
     "nuid": "b623011d-12b4-435f-bc36-8be346eefdf9",
     "showTitle": false,
     "tableResultSettingsMap": {},
     "title": ""
    },
    "scrolled": true
   },
   "outputs": [],
   "source": [
    "from pyspark.ml.recommendation import ALS\n",
    "\n",
    "Rank = [x*3 for x in range(1, 8)]\n",
    "\n",
    "result_rank = []\n",
    "\n",
    "for i in Rank:\n",
    "\n",
    "    als = ALS().setMaxIter(6) \\\n",
    "        .setRegParam(0.1) \\\n",
    "        .setUserCol('userId') \\\n",
    "        .setItemCol('movieId') \\\n",
    "        .setRatingCol('rating') \\\n",
    "        .setRank(i)\n",
    "\n",
    "    model = als.fit(df_ratings_train)\n",
    "\n",
    "    df_predicted_ratings = model.transform(df_ratings_test)\n",
    "    df_predicted_ratings = df_predicted_ratings.filter(df_predicted_ratings.prediction != float('nan'))\n",
    "    display(df_predicted_ratings)\n",
    "\n",
    "    from pyspark.ml.evaluation import RegressionEvaluator\n",
    "\n",
    "    regr_eval = RegressionEvaluator(predictionCol='prediction', labelCol='rating', metricName='rmse')\n",
    "    error = regr_eval.evaluate(df_predicted_ratings)\n",
    "    print(f'RMSE Error: {error}')"
   ]
  },
  {
   "cell_type": "code",
   "execution_count": null,
   "metadata": {
    "application/vnd.databricks.v1+cell": {
     "cellMetadata": {
      "byteLimit": 2048000,
      "rowLimit": 10000
     },
     "inputWidgets": {},
     "nuid": "3d9d8b1d-3522-4240-9559-b7a1af140ab4",
     "showTitle": false,
     "tableResultSettingsMap": {},
     "title": ""
    }
   },
   "outputs": [
    {
     "data": {
      "image/png": "[encoded data removed]",
      "text/plain": [
       "<Figure size 1000x500 with 1 Axes>"
      ]
     },
     "metadata": {},
     "output_type": "display_data"
    }
   ],
   "source": [
    "import matplotlib.pyplot as plt\n",
    "\n",
    "rank_values = [3, 6, 9, 12, 15, 18, 21]\n",
    "rmse_errors = [0.8262214788397516, 0.8129786960553319, 0.8158107660504955, 0.8115380901161446, 0.8197587256863531, 0.8141245864175524, 0.8125231449338672]\n",
    "\n",
    "fig, ax = plt.subplots(figsize=(10,5))\n",
    "ax.plot(rank_values, rmse_errors, marker='o', linestyle='-', color='b')\n",
    "ax.set_xlabel('Rank')\n",
    "ax.set_ylabel('RMSE')\n",
    "ax.set_title('Rank vs RMSE')\n",
    "\n",
    "plt.grid(True)\n",
    "plt.show()"
   ]
  },
  {
   "cell_type": "code",
   "execution_count": null,
   "metadata": {
    "application/vnd.databricks.v1+cell": {
     "cellMetadata": {
      "byteLimit": 2048000,
      "rowLimit": 10000
     },
     "inputWidgets": {},
     "nuid": "74f1c0e7-dc38-4b09-94b1-ff9b8a3f826e",
     "showTitle": false,
     "tableResultSettingsMap": {
      "6": {
       "filterBlob": "{\"filterGroups\":[],\"syncTimestamp\":1742350335067}",
       "tableResultIndex": 6
      }
     },
     "title": ""
    },
    "scrolled": true
   },
   "outputs": [],
   "source": [
    "from pyspark.ml.recommendation import ALS\n",
    "\n",
    "regparams = [float(x*3 /100 ) for x in range(1, 8)]\n",
    "\n",
    "result_regparams = []\n",
    "\n",
    "for i in Rank:\n",
    "\n",
    "    als = ALS().setMaxIter(6) \\\n",
    "        .setRegParam(i) \\\n",
    "        .setUserCol('userId') \\\n",
    "        .setItemCol('movieId') \\\n",
    "        .setRatingCol('rating') \\\n",
    "        .setRank(6)\n",
    "\n",
    "    model = als.fit(df_ratings_train)\n",
    "\n",
    "    df_predicted_ratings = model.transform(df_ratings_test)\n",
    "    df_predicted_ratings = df_predicted_ratings.filter(df_predicted_ratings.prediction != float('nan'))\n",
    "\n",
    "    from pyspark.ml.evaluation import RegressionEvaluator\n",
    "\n",
    "    regr_eval = RegressionEvaluator(predictionCol='prediction', labelCol='rating', metricName='rmse')\n",
    "    error = regr_eval.evaluate(df_predicted_ratings)\n",
    "    print(f'RMSE Error: {error}')"
   ]
  },
  {
   "cell_type": "code",
   "execution_count": null,
   "metadata": {
    "application/vnd.databricks.v1+cell": {
     "cellMetadata": {
      "byteLimit": 2048000,
      "rowLimit": 10000
     },
     "inputWidgets": {},
     "nuid": "e0e1c6cc-c22a-4dfa-90d6-505ca2cd0a8c",
     "showTitle": false,
     "tableResultSettingsMap": {},
     "title": ""
    }
   },
   "outputs": [
    {
     "data": {
      "image/png": "[encoded data removed]",
      "text/plain": [
       "<Figure size 800x600 with 1 Axes>"
      ]
     },
     "metadata": {},
     "output_type": "display_data"
    }
   ],
   "source": [
    "import matplotlib.pyplot as plt\n",
    "\n",
    "regparams_values = [0.03, 0.06, 0.09, 0.12, 0.15, 0.18, 0.21]\n",
    "rmse_errors = (0.8102452265506015, 0.8071010770775726, 0.8106251227385811, 0.8189998881775662, 0.8295344789623986, 0.8405089566764932, 0.8517476235497347)\n",
    "\n",
    "fig, ax = plt.subplots(figsize=(8, 6))  # Adjust the width and height according to your preference\n",
    "ax.plot(regparams_values, rmse_errors, marker='o', linestyle='-', color='b')\n",
    "ax.set_xlabel('Rank')\n",
    "ax.set_ylabel('RMSE')\n",
    "ax.set_title('Regparams vs RMSE')\n",
    "\n",
    "plt.grid(True)\n",
    "plt.show()\n"
   ]
  },
  {
   "cell_type": "code",
   "execution_count": null,
   "metadata": {
    "application/vnd.databricks.v1+cell": {
     "cellMetadata": {
      "byteLimit": 2048000,
      "rowLimit": 10000
     },
     "inputWidgets": {},
     "nuid": "f760f226-8b92-46cc-b938-4df28e016855",
     "showTitle": false,
     "tableResultSettingsMap": {},
     "title": ""
    }
   },
   "outputs": [],
   "source": [
    "my_user_id = 0\n",
    "\n",
    "my_rated_movies = [\n",
    "    (my_user_id, 318, 5), # Shawshank redemption\n",
    "    (my_user_id, 908, 4), # North by Northwest (1959)\n",
    "    (my_user_id, 858, 5), # Godfather, The (1972)\n",
    "    (my_user_id, 2019, 5), # Seven Samurai (The Magnificent Seven) (Shichinin no samurai) (1954)\n",
    "    (my_user_id, 912, 5), # Casablanca (1942)\n",
    "    (my_user_id, 1250, 3), # Bridge on the River Kwai, The (1957)\n",
    "    (my_user_id, 2324, 5), # Life Is Beautiful (La Vita ? bella) (1997)\n",
    "    (my_user_id, 1233, 3), # Boat, The (Das Boot) (1981)\n",
    "    (my_user_id, 593, 4), # Silence of the Lambs, The (1991)\n",
    "    (my_user_id, 1262, 3), # Great Escape, The (1963)\n",
    "]"
   ]
  },
  {
   "cell_type": "code",
   "execution_count": null,
   "metadata": {
    "application/vnd.databricks.v1+cell": {
     "cellMetadata": {
      "byteLimit": 2048000,
      "rowLimit": 10000
     },
     "inputWidgets": {},
     "nuid": "b8c78f5f-11f3-410c-9b0f-253bfe0893ec",
     "showTitle": false,
     "tableResultSettingsMap": {},
     "title": ""
    }
   },
   "outputs": [
    {
     "data": {
      "text/html": [
       "<style scoped>\n",
       "  .table-result-container {\n",
       "    max-height: 300px;\n",
       "    overflow: auto;\n",
       "  }\n",
       "  table, th, td {\n",
       "    border: 1px solid black;\n",
       "    border-collapse: collapse;\n",
       "  }\n",
       "  th, td {\n",
       "    padding: 5px;\n",
       "  }\n",
       "  th {\n",
       "    text-align: left;\n",
       "  }\n",
       "</style><div class='table-result-container'><table class='table-result'><thead style='background-color: white'><tr><th>userId</th><th>movieId</th><th>rating</th></tr></thead><tbody><tr><td>0</td><td>318</td><td>5</td></tr><tr><td>0</td><td>908</td><td>4</td></tr><tr><td>0</td><td>858</td><td>5</td></tr><tr><td>0</td><td>2019</td><td>5</td></tr><tr><td>0</td><td>912</td><td>5</td></tr><tr><td>0</td><td>1250</td><td>3</td></tr><tr><td>0</td><td>2324</td><td>5</td></tr><tr><td>0</td><td>1233</td><td>3</td></tr><tr><td>0</td><td>593</td><td>4</td></tr><tr><td>0</td><td>1262</td><td>3</td></tr></tbody></table></div>"
      ]
     },
     "metadata": {
      "application/vnd.databricks.v1+output": {
       "addedWidgets": {},
       "aggData": [],
       "aggError": "",
       "aggOverflow": false,
       "aggSchema": [],
       "aggSeriesLimitReached": false,
       "aggType": "",
       "arguments": {},
       "columnCustomDisplayInfos": {},
       "data": [
        [
         0,
         318,
         5
        ],
        [
         0,
         908,
         4
        ],
        [
         0,
         858,
         5
        ],
        [
         0,
         2019,
         5
        ],
        [
         0,
         912,
         5
        ],
        [
         0,
         1250,
         3
        ],
        [
         0,
         2324,
         5
        ],
        [
         0,
         1233,
         3
        ],
        [
         0,
         593,
         4
        ],
        [
         0,
         1262,
         3
        ]
       ],
       "datasetInfos": [],
       "dbfsResultPath": null,
       "isJsonSchema": true,
       "metadata": {},
       "overflow": false,
       "plotOptions": {
        "customPlotOptions": {},
        "displayType": "table",
        "pivotAggregation": null,
        "pivotColumns": null,
        "xColumns": null,
        "yColumns": null
       },
       "removedWidgets": [],
       "schema": [
        {
         "metadata": "{}",
         "name": "userId",
         "type": "\"long\""
        },
        {
         "metadata": "{}",
         "name": "movieId",
         "type": "\"long\""
        },
        {
         "metadata": "{}",
         "name": "rating",
         "type": "\"long\""
        }
       ],
       "type": "table"
      }
     },
     "output_type": "display_data"
    }
   ],
   "source": [
    "df_my_ratings = sqlContext.createDataFrame(my_rated_movies, ['userId', 'movieId', 'rating'])\n",
    "display(df_my_ratings)"
   ]
  },
  {
   "cell_type": "code",
   "execution_count": null,
   "metadata": {
    "application/vnd.databricks.v1+cell": {
     "cellMetadata": {
      "byteLimit": 2048000,
      "rowLimit": 10000
     },
     "inputWidgets": {},
     "nuid": "6e07194e-e241-459e-92dc-6330e0e54c1c",
     "showTitle": false,
     "tableResultSettingsMap": {},
     "title": ""
    }
   },
   "outputs": [
    {
     "name": "stdout",
     "output_type": "stream",
     "text": [
      "14001658\n",
      "14001668\n"
     ]
    }
   ],
   "source": [
    "from pyspark.sql.functions import lit\n",
    "\n",
    "print(df_ratings_train.count())\n",
    "df_my_ratings = df_my_ratings.withColumn(\"timestamp\", lit(0))\n",
    "df_training_with_my_own = df_ratings_train.unionAll(df_my_ratings)\n",
    "print(df_training_with_my_own.count())"
   ]
  },
  {
   "cell_type": "code",
   "execution_count": null,
   "metadata": {
    "application/vnd.databricks.v1+cell": {
     "cellMetadata": {
      "byteLimit": 2048000,
      "rowLimit": 10000
     },
     "inputWidgets": {},
     "nuid": "6f571049-f337-471a-9c8a-22f83e43c5f0",
     "showTitle": false,
     "tableResultSettingsMap": {},
     "title": ""
    }
   },
   "outputs": [],
   "source": [
    "als = ALS().setMaxIter(12).setRegParam(0.06) \\\n",
    "  .setUserCol('userId') \\\n",
    "  .setItemCol('movieId') \\\n",
    "  .setRatingCol('rating') \\\n",
    "  .setRank(12)\n",
    "\n",
    "my_model = als.fit(df_training_with_my_own)"
   ]
  },
  {
   "cell_type": "code",
   "execution_count": null,
   "metadata": {
    "application/vnd.databricks.v1+cell": {
     "cellMetadata": {
      "byteLimit": 2048000,
      "rowLimit": 10000
     },
     "inputWidgets": {},
     "nuid": "5df3f32c-91d7-477b-9f7c-acf4aa6072e0",
     "showTitle": false,
     "tableResultSettingsMap": {},
     "title": ""
    }
   },
   "outputs": [
    {
     "name": "stdout",
     "output_type": "stream",
     "text": [
      "[318, 908, 858, 2019, 912, 1250, 2324, 1233, 593, 1262]\n"
     ]
    }
   ],
   "source": [
    "my_ratings_movie_ids = [x[1] for x in my_rated_movies]\n",
    "print(my_ratings_movie_ids)"
   ]
  },
  {
   "cell_type": "code",
   "execution_count": null,
   "metadata": {
    "application/vnd.databricks.v1+cell": {
     "cellMetadata": {
      "byteLimit": 2048000,
      "rowLimit": 10000
     },
     "inputWidgets": {},
     "nuid": "4598b2f3-b760-462f-9caa-4bfe5fb9e1d9",
     "showTitle": false,
     "tableResultSettingsMap": {},
     "title": ""
    }
   },
   "outputs": [
    {
     "name": "stdout",
     "output_type": "stream",
     "text": [
      "27278\n",
      "27268\n"
     ]
    }
   ],
   "source": [
    "print(df_movies.count())\n",
    "df_not_rated = df_movies.filter(~df_movies['movieId'].isin(my_ratings_movie_ids))\n",
    "print(df_not_rated.count())"
   ]
  },
  {
   "cell_type": "code",
   "execution_count": null,
   "metadata": {
    "application/vnd.databricks.v1+cell": {
     "cellMetadata": {
      "byteLimit": 2048000,
      "rowLimit": 10000
     },
     "inputWidgets": {},
     "nuid": "cd372626-9d14-4402-b510-e49dca676fa0",
     "showTitle": false,
     "tableResultSettingsMap": {},
     "title": ""
    },
    "scrolled": true
   },
   "outputs": [],
   "source": [
    "from pyspark.sql.functions import lit\n",
    "\n",
    "df_my_unrated_movies = df_not_rated.withColumn('userId', lit(my_user_id))\n",
    "display(df_my_unrated_movies)"
   ]
  },
  {
   "cell_type": "code",
   "execution_count": null,
   "metadata": {
    "application/vnd.databricks.v1+cell": {
     "cellMetadata": {
      "byteLimit": 2048000,
      "rowLimit": 10000
     },
     "inputWidgets": {},
     "nuid": "cbec272f-3087-4f18-b950-62d14594aaf5",
     "showTitle": false,
     "tableResultSettingsMap": {},
     "title": ""
    },
    "scrolled": true
   },
   "outputs": [],
   "source": [
    "df_my_predicted_ratings = my_model.transform(df_my_unrated_movies)\n",
    "display(df_my_predicted_ratings)"
   ]
  },
  {
   "cell_type": "code",
   "execution_count": null,
   "metadata": {
    "application/vnd.databricks.v1+cell": {
     "cellMetadata": {
      "byteLimit": 2048000,
      "rowLimit": 10000
     },
     "inputWidgets": {},
     "nuid": "e642e67f-b538-40d7-bb05-09a620636c8d",
     "showTitle": false,
     "tableResultSettingsMap": {},
     "title": ""
    }
   },
   "outputs": [
    {
     "name": "stdout",
     "output_type": "stream",
     "text": [
      "+-------+--------------------+--------------------+------+----------+\n",
      "|movieId|               title|              genres|userId|prediction|\n",
      "+-------+--------------------+--------------------+------+----------+\n",
      "| 100553|Frozen Planet (2011)|         Documentary|     0|  5.870441|\n",
      "| 112577|Willie & Phil (1980)|Comedy|Drama|Romance|     0| 5.8450327|\n",
      "|  83468|Chinaman (Kinaman...|               Drama|     0|  5.658328|\n",
      "|  72035|Dimensions of Dia...|Animation|Comedy|...|     0| 5.4061327|\n",
      "|    136|From the Journals...|         Documentary|     0|  5.402399|\n",
      "|  86057|Outrageous Class ...|        Comedy|Drama|     0|  5.380038|\n",
      "| 118896|        Mommy (2014)|               Drama|     0| 5.3567476|\n",
      "|  79842|     For Neda (2010)|         Documentary|     0|  5.337565|\n",
      "| 110669|Honest Liar, An (...|  Comedy|Documentary|     0|  5.319922|\n",
      "| 130347|Bill Hicks: Sane ...|              Comedy|     0| 5.3058996|\n",
      "| 106503|Enemies of Reason...|         Documentary|     0| 5.2936983|\n",
      "| 103863|Holidays by the S...|              Comedy|     0| 5.2774467|\n",
      "| 107306|Gurren Lagann: Th...|Adventure|Animati...|     0| 5.2726307|\n",
      "| 128812|Drew: The Man Beh...|         Documentary|     0| 5.1991043|\n",
      "|  89747|        Taxi! (1932)| Crime|Drama|Romance|     0| 5.1959333|\n",
      "|  60880|Family Game, The ...|        Comedy|Drama|     0| 5.1853566|\n",
      "|  94222|Don't Eat the Pic...|            Children|     0| 5.1804953|\n",
      "|  45691| Edvard Munch (1974)|               Drama|     0| 5.1615977|\n",
      "| 112890| Jimmy's Hall (2014)|               Drama|     0|  5.129197|\n",
      "|  87511|Two Girls and a S...|Comedy|Musical|Ro...|     0| 5.1265645|\n",
      "| 129032|Sense & Sensibili...|       Drama|Romance|     0|  5.070293|\n",
      "|  73868|Garbage Warrior (...|         Documentary|     0| 5.0681133|\n",
      "| 109074|Four, The (Si da ...|Action|Crime|Fantasy|     0| 5.0555725|\n",
      "| 127256|  The Old Gun (1975)|  Drama|Thriller|War|     0|  5.044204|\n",
      "|  62206|Supermarket Woman...|              Comedy|     0|  5.039203|\n",
      "|  81117|Moth, The (Cma) (...|               Drama|     0| 5.0253983|\n",
      "| 107559|Am Ende eiens vie...|     Animation|Drama|     0|  5.015149|\n",
      "|  70828|Space Odyssey: Vo...|Documentary|Drama...|     0| 5.0151014|\n",
      "| 114635|Look of Silence, ...|         Documentary|     0|  5.012515|\n",
      "|   8671|     Zus & Zo (2001)|Comedy|Drama|Romance|     0| 4.9884133|\n",
      "| 107780|         Cats (1998)|             Musical|     0| 4.9723744|\n",
      "|   3332|Legend of Lobo, T...|  Adventure|Children|     0| 4.9695287|\n",
      "|  43267|On Probation (Tie...|       Action|Comedy|     0|  4.968417|\n",
      "|  26644|Landscape in the ...|               Drama|     0|  4.957326|\n",
      "|  77433|Ten Commandments,...|               Drama|     0|    4.9464|\n",
      "|  64241|Lonely Wife, The ...|       Drama|Romance|     0|  4.946064|\n",
      "|  88837| Trotsky, The (2009)|              Comedy|     0| 4.9421782|\n",
      "|  72117|Misérables, Les (...|       Drama|Romance|     0| 4.9414067|\n",
      "|  95604|      The War (2007)|     Documentary|War|     0|  4.937814|\n",
      "|   7145|Prisoner of Parad...|         Documentary|     0| 4.9253826|\n",
      "|  60336|Bad Blood (Mauvai...| Crime|Drama|Romance|     0|    4.9119|\n",
      "|  47404|    Mind Game (2004)|Adventure|Animati...|     0| 4.9083366|\n",
      "| 116155|   Still Life (2013)|               Drama|     0| 4.9076433|\n",
      "| 117444|Song of the Sea (...|Animation|Childre...|     0| 4.8957705|\n",
      "| 108875|Harvest (Stadt La...|       Drama|Romance|     0| 4.8953495|\n",
      "|  67135|Night Has a Thous...|     Drama|Film-Noir|     0|    4.8939|\n",
      "|  42935|Riding Alone for ...|               Drama|     0|  4.893854|\n",
      "|  92702|Johnny Cash at Fo...|         Documentary|     0|  4.891309|\n",
      "|  99675|Eat Sleep Die (Ät...|               Drama|     0| 4.8873825|\n",
      "|  60198|Sandglass, The (S...|             Mystery|     0| 4.8872724|\n",
      "+-------+--------------------+--------------------+------+----------+\n",
      "only showing top 50 rows\n",
      "\n"
     ]
    }
   ],
   "source": [
    "from pyspark.sql.functions import desc\n",
    "\n",
    "df_my_predicted_ratings = df_my_predicted_ratings.filter(df_my_predicted_ratings.prediction != float('nan'))\n",
    "df_my_predicted_ratings.sort(desc('prediction')).show(50)"
   ]
  }
 ],
 "metadata": {
  "application/vnd.databricks.v1+notebook": {
   "computePreferences": null,
   "dashboards": [],
   "environmentMetadata": null,
   "inputWidgetPreferences": null,
   "language": "python",
   "notebookMetadata": {
    "mostRecentlyExecutedCommandWithImplicitDF": {
     "commandId": 4260846359405610,
     "dataframes": [
      "_sqldf"
     ]
    },
    "pythonIndentUnit": 4
   },
   "notebookName": "(C) HW ALS for Movies Recommendation",
   "widgets": {}
  },
  "kernelspec": {
   "display_name": "Python 3 (ipykernel)",
   "language": "python",
   "name": "python3"
  },
  "language_info": {
   "codemirror_mode": {
    "name": "ipython",
    "version": 3
   },
   "file_extension": ".py",
   "mimetype": "text/x-python",
   "name": "python",
   "nbconvert_exporter": "python",
   "pygments_lexer": "ipython3",
   "version": "3.12.3"
  }
 },
 "nbformat": 4,
 "nbformat_minor": 4
}
